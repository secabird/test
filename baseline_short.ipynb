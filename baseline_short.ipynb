{
  "cells": [
    {
      "cell_type": "code",
      "execution_count": 6,
      "metadata": {
        "colab": {
          "base_uri": "https://localhost:8080/"
        },
        "id": "71Hmcu2_9CiB",
        "outputId": "b72152ae-4122-4e21-e730-11f315df39b7"
      },
      "outputs": [],
      "source": [
        "import os\n",
        "import typing\n",
        "\n",
        "# Import your dependencies\n",
        "import joblib\n",
        "import pandas as pd\n",
        "import scipy\n",
        "import sklearn.metrics\n",
        "import warnings\n",
        "from sklearn.exceptions import DataConversionWarning\n",
        "\n",
        "warnings.filterwarnings(\"ignore\", category=DataConversionWarning)\n",
        "\n",
        "\n",
        "X_train = pd.read_parquet(\"X_train.parquet\")\n",
        "y_train = pd.read_parquet(\"y_train.parquet\")"
      ]
    },
    {
      "cell_type": "code",
      "execution_count": 8,
      "metadata": {
        "colab": {
          "base_uri": "https://localhost:8080/",
          "height": 724
        },
        "id": "QXf0-HbDA2fX",
        "outputId": "6e5179d3-0b72-48ba-e7ce-050c554634f3"
      },
      "outputs": [],
      "source": [
        "import numpy as np\n",
        "import pandas as pd\n",
        "from scipy import stats\n",
        "from multiprocessing import Pool, cpu_count\n",
        "import numpy as np, pandas as pd\n",
        "from scipy import stats\n",
        "from sklearn.ensemble import RandomForestClassifier\n",
        "from sklearn.model_selection import StratifiedKFold, cross_val_score\n",
        "from sklearn.preprocessing import RobustScaler\n",
        "from sklearn.pipeline import Pipeline\n",
        "\n",
        "\n",
        "def extract_features(df):\n",
        "    # df = DataFrame with multiindex (id, time) and columns ['value', 'period']\n",
        "    feats = []\n",
        "    ids = df.index.get_level_values(0).unique()\n",
        "    for i in ids:\n",
        "        s = df.loc[i]\n",
        "        before = s[s['period'] == 0]['value'].values\n",
        "        after  = s[s['period'] == 1]['value'].values\n",
        "        def agg(x):\n",
        "            if len(x)==0:\n",
        "                return dict(mean=np.nan, std=np.nan, median=np.nan)\n",
        "            return dict(mean=np.mean(x), std=np.std(x, ddof=1),\n",
        "                        median=np.median(x),\n",
        "                        skew=stats.skew(x), kurt=stats.kurtosis(x),\n",
        "                        q25=np.percentile(x,25), q75=np.percentile(x,75),\n",
        "                        q10=np.percentile(x,10), q90=np.percentile(x,90),\n",
        "                        outliers=(np.abs(x - np.mean(x)) > 3*np.std(x)).sum()/len(x))\n",
        "        b = agg(before); a = agg(after)\n",
        "        row = {'id': i}\n",
        "        for k,v in b.items(): row[f'b_{k}'] = v\n",
        "        for k,v in a.items(): row[f'a_{k}'] = v\n",
        "        # differences & statistical tests\n",
        "        row['mean_diff'] = b['mean'] - a['mean']\n",
        "        row['std_ratio'] = (a['std'] / (b['std'] + 1e-9))\n",
        "        # t-test and ks (handle degenerate)\n",
        "        try:\n",
        "            tstat, tp = stats.ttest_ind(before, after, equal_var=False, nan_policy='omit')\n",
        "        except:\n",
        "            tstat, tp = np.nan, np.nan\n",
        "        row['tstat'] = tstat; row['tp'] = tp\n",
        "        try:\n",
        "            ks, ksp = stats.ks_2samp(before, after)\n",
        "        except:\n",
        "            ks, ksp = np.nan, np.nan\n",
        "        row['ks'] = ks\n",
        "        feats.append(row)\n",
        "    return pd.DataFrame(feats).set_index('id')\n",
        "\n",
        "X = extract_features(X_train.loc[:5000])\n",
        "\n",
        "y = y_train.loc[X.index].astype(int)\n",
        "# pipeline = Pipeline([('scaler', RobustScaler()), ('clf', RandomForestClassifier(n_estimators=200, class_weight='balanced'))])\n",
        "# cv = StratifiedKFold(5, shuffle=True, random_state=42)\n",
        "# print(\"cv roc_auc:\", cross_val_score(pipeline, X.fillna(0), y, cv=cv, scoring='roc_auc').mean())\n"
      ]
    },
    {
      "cell_type": "code",
      "execution_count": 9,
      "metadata": {
        "colab": {
          "base_uri": "https://localhost:8080/"
        },
        "id": "mQhM_NJkCH1y",
        "outputId": "67a18fe7-7a97-45c8-96d3-d326b96efcaf"
      },
      "outputs": [
        {
          "name": "stdout",
          "output_type": "stream",
          "text": [
            "cv roc_auc: 0.6806121745048486\n"
          ]
        }
      ],
      "source": [
        "import numpy as np, pandas as pd\n",
        "from scipy import stats\n",
        "from sklearn.ensemble import RandomForestClassifier\n",
        "from sklearn.model_selection import StratifiedKFold, cross_val_score\n",
        "from sklearn.preprocessing import RobustScaler\n",
        "from sklearn.pipeline import Pipeline\n",
        "pipeline = Pipeline([('scaler', RobustScaler()), ('clf', RandomForestClassifier(n_estimators=200, class_weight='balanced', random_state=42))])\n",
        "cv = StratifiedKFold(5, shuffle=True, random_state=42)\n",
        "print(\"cv roc_auc:\", cross_val_score(pipeline, X.fillna(0), y, cv=cv, scoring='roc_auc').mean())"
      ]
    }
  ],
  "metadata": {
    "colab": {
      "gpuType": "T4",
      "provenance": []
    },
    "kernelspec": {
      "display_name": "Python 3",
      "name": "python3"
    },
    "language_info": {
      "codemirror_mode": {
        "name": "ipython",
        "version": 3
      },
      "file_extension": ".py",
      "mimetype": "text/x-python",
      "name": "python",
      "nbconvert_exporter": "python",
      "pygments_lexer": "ipython3",
      "version": "3.10.10"
    }
  },
  "nbformat": 4,
  "nbformat_minor": 0
}
